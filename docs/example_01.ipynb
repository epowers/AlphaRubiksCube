{
 "cells": [
  {
   "cell_type": "code",
   "execution_count": 1,
   "id": "e35afb01-c27c-41c6-a3db-42e8c1487d1c",
   "metadata": {},
   "outputs": [
    {
     "data": {
      "application/vnd.jupyter.widget-view+json": {
       "model_id": "444df52fee514beab33f9edfb3761c53",
       "version_major": 2,
       "version_minor": 0
      },
      "text/plain": [
       "Output()"
      ]
     },
     "metadata": {},
     "output_type": "display_data"
    }
   ],
   "source": [
    "import k3d\n",
    "\n",
    "from alpha_rubiks_cube.utils import make_rubiks_cube_geometry, k3d_generate_rubiks_cube_drawable_list\n",
    "\n",
    "plot = k3d.plot(grid_visible=False, menu_visibility=False)\n",
    "\n",
    "cube = make_rubiks_cube_geometry()\n",
    "for mesh in k3d_generate_rubiks_cube_drawable_list(cube, None):\n",
    "    plot += mesh\n",
    "    \n",
    "plot.display()"
   ]
  }
 ],
 "metadata": {
  "kernelspec": {
   "display_name": "Python 3 (ipykernel)",
   "language": "python",
   "name": "python3"
  },
  "language_info": {
   "codemirror_mode": {
    "name": "ipython",
    "version": 3
   },
   "file_extension": ".py",
   "mimetype": "text/x-python",
   "name": "python",
   "nbconvert_exporter": "python",
   "pygments_lexer": "ipython3",
   "version": "3.10.8"
  }
 },
 "nbformat": 4,
 "nbformat_minor": 5
}
