{
 "cells": [
  {
   "cell_type": "code",
   "execution_count": 1,
   "id": "e35afb01-c27c-41c6-a3db-42e8c1487d1c",
   "metadata": {},
   "outputs": [
    {
     "name": "stderr",
     "output_type": "stream",
     "text": [
      "/home/eric/miniconda3/envs/pytorch/lib/python3.10/site-packages/traittypes/traittypes.py:97: UserWarning: Given trait value dtype \"float64\" does not match required type \"float32\". A coerced copy has been created.\n",
      "  warnings.warn(\n",
      "/home/eric/miniconda3/envs/pytorch/lib/python3.10/site-packages/traittypes/traittypes.py:97: UserWarning: Given trait value dtype \"int64\" does not match required type \"uint32\". A coerced copy has been created.\n",
      "  warnings.warn(\n"
     ]
    },
    {
     "data": {
      "application/vnd.jupyter.widget-view+json": {
       "model_id": "cf9100538c864034b3e685ea33d1fd06",
       "version_major": 2,
       "version_minor": 0
      },
      "text/plain": [
       "Output()"
      ]
     },
     "metadata": {},
     "output_type": "display_data"
    }
   ],
   "source": [
    "import k3d\n",
    "\n",
    "from alpha_rubiks_cube.utils import make_rubiks_cube_geometry\n",
    "\n",
    "vertices, indices, colors = make_rubiks_cube_geometry()\n",
    "cube = k3d.mesh(vertices, indices, colors=colors)\n",
    "\n",
    "#plot = k3d.plot(grid_visible=False, menu_visibility=False, camera_no_zoom=True, camera_no_pan=True, camera_no_rotate=True)\n",
    "plot = k3d.plot(grid_visible=False, menu_visibility=False)\n",
    "plot += cube\n",
    "plot.display()"
   ]
  },
  {
   "cell_type": "code",
   "execution_count": null,
   "id": "6cf211f0-d64c-412b-9264-470d5663548b",
   "metadata": {},
   "outputs": [],
   "source": []
  },
  {
   "cell_type": "code",
   "execution_count": null,
   "id": "2c7d365f-1548-4233-ac12-ffde5b63713b",
   "metadata": {},
   "outputs": [],
   "source": []
  }
 ],
 "metadata": {
  "kernelspec": {
   "display_name": "Python 3 (ipykernel)",
   "language": "python",
   "name": "python3"
  },
  "language_info": {
   "codemirror_mode": {
    "name": "ipython",
    "version": 3
   },
   "file_extension": ".py",
   "mimetype": "text/x-python",
   "name": "python",
   "nbconvert_exporter": "python",
   "pygments_lexer": "ipython3",
   "version": "3.10.8"
  }
 },
 "nbformat": 4,
 "nbformat_minor": 5
}
